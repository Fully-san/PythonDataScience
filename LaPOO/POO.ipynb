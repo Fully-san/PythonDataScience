{
 "cells": [
  {
   "cell_type": "markdown",
   "metadata": {},
   "source": [
    "## Les attributs de classe et d'objet"
   ]
  },
  {
   "cell_type": "markdown",
   "metadata": {},
   "source": [
    "Créez une classe <b><em>Orange</em></b> qui contient :\n",
    " - Un attribut de classe <b><em>color</em></b>\n",
    " - Un attribut <b><em>diameter</em></b>\n",
    "\n",
    "Dans la seconde cellule, créez deux instances de la classe Orange.<br><br>\n",
    "\n",
    "Essayez de modifier <b><em>diameter</em></b>, puis <b><em>color</em></b>.<br>\n",
    "Remarquez-vous quelque chose ?<br>\n",
    "Vous pouvez utiliser l'attribut __dict__ pour comprendre ce qui se passe. Il contient tous les attributs d'instance d'un objet."
   ]
  },
  {
   "cell_type": "code",
   "execution_count": 2,
   "metadata": {},
   "outputs": [],
   "source": [
    "class Orange:\n",
    "    pass # Votre code ici"
   ]
  },
  {
   "cell_type": "code",
   "execution_count": null,
   "metadata": {},
   "outputs": [],
   "source": [
    "# Votre code ici"
   ]
  },
  {
   "cell_type": "code",
   "execution_count": 3,
   "metadata": {},
   "outputs": [],
   "source": [
    "class Orange:\n",
    "\n",
    "  color = \"orange\"\n",
    "\n",
    "  def __init__(self, diameter):\n",
    "    self.diameter = diameter"
   ]
  },
  {
   "cell_type": "code",
   "execution_count": 8,
   "metadata": {},
   "outputs": [
    {
     "name": "stdout",
     "output_type": "stream",
     "text": [
      "Grande orange avec un diamètre de 5.8 avec une couleur  orange\n",
      "Grande orange avec un diamètre de 4.2 avec une couleur  orange\n",
      "{'diameter': 5.8}\n"
     ]
    }
   ],
   "source": [
    "bigOrange = Orange(5.8)\n",
    "littleOrange = Orange(4.2)\n",
    "print(\"Grande orange avec un diamètre de\", bigOrange.diameter, \"avec une couleur\", bigOrange.color)\n",
    "print(\"Petite orange avec un diamètre de\", littleOrange.diameter, \"avec une couleur\", littleOrange.color)\n",
    "print(bigOrange.__dict__)"
   ]
  },
  {
   "cell_type": "code",
   "execution_count": 9,
   "metadata": {},
   "outputs": [
    {
     "name": "stdout",
     "output_type": "stream",
     "text": [
      "Grande orange avec un diamètre de 5.7 avec une couleur  bleu\n",
      "Petite orange avec un diamètre de 4.3 avec une couleur  vert\n",
      "{'diameter': 5.7, 'color': 'bleu'}\n"
     ]
    }
   ],
   "source": [
    "bigOrange.color = \"bleu\"\n",
    "bigOrange.diameter = 5.7\n",
    "littleOrange.color = \"vert\"\n",
    "littleOrange.diameter = 4.3\n",
    "print(\"Grande orange avec un diamètre de\", bigOrange.diameter, \"avec une couleur\", bigOrange.color)\n",
    "print(\"Petite orange avec un diamètre de\", littleOrange.diameter, \"avec une couleur\", littleOrange.color)\n",
    "print(bigOrange.__dict__)"
   ]
  }
 ],
 "metadata": {
  "kernelspec": {
   "display_name": "base",
   "language": "python",
   "name": "python3"
  },
  "language_info": {
   "codemirror_mode": {
    "name": "ipython",
    "version": 3
   },
   "file_extension": ".py",
   "mimetype": "text/x-python",
   "name": "python",
   "nbconvert_exporter": "python",
   "pygments_lexer": "ipython3",
   "version": "3.9.13"
  }
 },
 "nbformat": 4,
 "nbformat_minor": 2
}
