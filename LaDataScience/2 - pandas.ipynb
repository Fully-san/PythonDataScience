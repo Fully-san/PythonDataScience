{
 "cells": [
  {
   "cell_type": "markdown",
   "metadata": {},
   "source": [
    "## Le DataSet de la catastrophe du Titanic"
   ]
  },
  {
   "cell_type": "markdown",
   "metadata": {},
   "source": [
    "Ce tutoriel présente les différents mécanismes de pandas en utilisant le jeu de données Titanic (un classique)."
   ]
  },
  {
   "cell_type": "markdown",
   "metadata": {},
   "source": [
    "### Chargement des données"
   ]
  },
  {
   "cell_type": "markdown",
   "metadata": {},
   "source": [
    "Réalisez les étapes suivantes :\n",
    "- Commencez par charger les données du fichier titanic.csv à l'aide de la méthode <a href=\"https://pandas.pydata.org/pandas-docs/stable/reference/api/pandas.read_csv.html\">pandas.read_csv</a> dans un nouveau DataFrame.\n",
    "- Affichez les premières lignes du DataFrame.\n",
    "- Affichez les informations générales du DataFrame avec <a href=\"https://pandas.pydata.org/pandas-docs/stable/reference/api/pandas.DataFrame.describe.html\">pandas.DataFrame.describe</a>.\n",
    "\n",
    "Voici une liste des colonnes du DataSet avec une brève description :\n",
    "- PassengerId - Id\n",
    "- Survived - Survie (0 = Non ; 1 = Oui)\n",
    "- Pclass - Classe de passager (1 = 1er ; 2 = 2ème ; 3 = 3ème)\n",
    "- Name - Nom\n",
    "- Sex - Sexe\n",
    "- Age - Âge\n",
    "- SibSp - Nombre de frères et sœurs/conjoints à bord\n",
    "- Parch - Nombre de parents/enfants à bord\n",
    "- Ticket - Numéro du billet\n",
    "- Fare - Tarif passager\n",
    "- Cabin - Cabine\n",
    "- Embarked - Port d'embarquement (C = Cherbourg ; Q = Queenstown ; S = Southampton)\n",
    "boat - Embarcation de sauvetage (en cas de survie)\n",
    "body - Numéro du corps (s'il n'a pas survécu et que le corps a été récupéré)"
   ]
  },
  {
   "cell_type": "code",
   "execution_count": 16,
   "metadata": {},
   "outputs": [],
   "source": [
    "# Votre code ici\n",
    "import pandas as pd"
   ]
  },
  {
   "cell_type": "markdown",
   "metadata": {},
   "source": [
    "<details>\n",
    "<summary>Solution</summary>\n",
    "<p>\n",
    "import pandas as pd\n",
    "\n",
    "df = pd.read_csv(\"Data/titanic.csv\")\n",
    "\n",
    "df.head(4)\n",
    "\n",
    "df.describe\n",
    "<p>\n",
    "</details>"
   ]
  },
  {
   "cell_type": "markdown",
   "metadata": {},
   "source": [
    "### Détection des colonnes contenant des valeurs vides"
   ]
  },
  {
   "cell_type": "markdown",
   "metadata": {},
   "source": [
    "Certaines colonnes sont incomplètes et contiennent  NaN Elles doivent être remplacées.<br>\n",
    "Pour commencer, identifiez toutes les colonnes qui contiennent un NaN."
   ]
  },
  {
   "cell_type": "code",
   "execution_count": 11,
   "metadata": {},
   "outputs": [],
   "source": [
    "# Votre code ici"
   ]
  },
  {
   "cell_type": "code",
   "execution_count": 22,
   "metadata": {},
   "outputs": [
    {
     "name": "stdout",
     "output_type": "stream",
     "text": [
      "Colonnes contenant au moins une valeur vide\n",
      "{'Age', 'Cabin', 'Embarked'}\n"
     ]
    }
   ],
   "source": [
    "countMissing = df.isna().sum()\n",
    "colsToFill = set(countMissing[countMissing > 0].index)\n",
    "print(\"Colonnes contenant au moins une valeur vide\")\n",
    "print(colsToFill)"
   ]
  },
  {
   "cell_type": "markdown",
   "metadata": {},
   "source": [
    "### Remplacement des valeurs vides"
   ]
  },
  {
   "cell_type": "markdown",
   "metadata": {},
   "source": [
    "Remplacez les données des colonnes contenant NaN par les valeurs suivantes :\n",
    " - 0 pour la colonne Age.\n",
    " - \"unknown\" pour les colonnes Cabin et Embarked."
   ]
  },
  {
   "cell_type": "code",
   "execution_count": 23,
   "metadata": {},
   "outputs": [],
   "source": [
    "# Votre code ici"
   ]
  },
  {
   "cell_type": "markdown",
   "metadata": {},
   "source": [
    "<details>\n",
    "<summary>Solution</summary>\n",
    "<p>\n",
    "df[\"Age\"] = df[\"Age\"].fillna(0)\n",
    "df[[\"Cabin\", \"Embarked\"]] = df[[\"Cabin\", \"Embarked\"]].fillna(\"unknown\")\n",
    "\n",
    "df.isna().sum()\n",
    "<p>\n",
    "</details>"
   ]
  },
  {
   "cell_type": "markdown",
   "metadata": {},
   "source": [
    "### Un premier calcul"
   ]
  },
  {
   "cell_type": "markdown",
   "metadata": {},
   "source": [
    "Maintenant que pandas n'a plus de secrets pour vous.<br>\n",
    "Calculez le pourcentage de femmes et d'hommes ayant survécu au naufrage en fonction de leur sexe :\n",
    "\n",
    "$$\n",
    "  \\frac{\\text{Man}_{\\text{survived}}}{\\text{Man}_{\\text{total}}} \\, \\text{et} \\, \\frac{\\text{Woman}_{\\text{survived}}}{\\text{Woman}_{\\text{total}}}"
   ]
  },
  {
   "cell_type": "code",
   "execution_count": 28,
   "metadata": {},
   "outputs": [],
   "source": [
    "# Votre code ici"
   ]
  },
  {
   "cell_type": "markdown",
   "metadata": {},
   "source": [
    "<details>\n",
    "<summary>Solution</summary>\n",
    "<p>\n",
    "nombreSurvivant = df[df.Survived == 1].Sex.value_counts()\n",
    "nombrePassager = df.Sex.value_counts()\n",
    "pourcentageSurvivant = nombreSurvivant / nombrePassager\n",
    "\n",
    "print(f\"Sur les {nombrePassager['male']} hommes à bord, \"\n",
    "      f\"{nombreSurvivant['male']} ont survécu. Cela représente {pourcentageSurvivant['male']:.2%} des hommes à bord.\")\n",
    "print(f\"Sur les {n_pass['female']} femmes à bord, \"\n",
    "      f\"{nombreSurvivant['female']} ont survécu. Cela représente {pourcentageSurvivant['female']:.2%} des femmes à bord.\")\n",
    "<p>\n",
    "</details>"
   ]
  },
  {
   "cell_type": "markdown",
   "metadata": {},
   "source": [
    "### Nouvelle colonne Firstname"
   ]
  },
  {
   "cell_type": "markdown",
   "metadata": {},
   "source": [
    "Ajoutez une colonne Firstname à votre DataFrame qui contient le prénom du passager :\n",
    " - Utiliser la colonne Name.\n",
    " - Extrayez le prénom à l'aide de <a href=\"https://pandas.pydata.org/pandas-docs/stable/reference/api/pandas.Series.str.split.html\">pandas.Series.str.split</a>. Le prénom est toujours affiché avant la virgule dans la colonne Name.\n",
    " - Ajoutez le résultat à la colonne Firstname."
   ]
  },
  {
   "cell_type": "code",
   "execution_count": 36,
   "metadata": {},
   "outputs": [],
   "source": [
    "# Votre code ici"
   ]
  },
  {
   "cell_type": "markdown",
   "metadata": {},
   "source": [
    "<details>\n",
    "<summary>Solution</summary>\n",
    "<p>\n",
    "df[\"Firstname\"] = [fullname[0] for fullname in df.Name.str.split(\",\")]\n",
    "df.head(4)\n",
    "<p>\n",
    "</details>"
   ]
  },
  {
   "cell_type": "markdown",
   "metadata": {},
   "source": [
    "### Mapping"
   ]
  },
  {
   "cell_type": "markdown",
   "metadata": {},
   "source": [
    "En utilisant <a href=\"https://pandas.pydata.org/pandas-docs/stable/reference/api/pandas.Series.map.html\">pandas.Series.apply</a>, modifiez la casse de la colonne Firstname pour la passer en majuscules en utilisant la fonction <a href=\"https://docs.python.org/fr/3/library/stdtypes.html#str.upper\">str.upper</a>."
   ]
  },
  {
   "cell_type": "code",
   "execution_count": 39,
   "metadata": {},
   "outputs": [],
   "source": [
    "# Votre code ici"
   ]
  },
  {
   "cell_type": "markdown",
   "metadata": {},
   "source": [
    "<details>\n",
    "<summary>Solution</summary>\n",
    "<p>\n",
    "df[\"Firstname\"] = df[\"Firstname\"].apply(str.upper)\n",
    "df[\"Firstname\"]\n",
    "<p>\n",
    "</details>"
   ]
  },
  {
   "cell_type": "markdown",
   "metadata": {},
   "source": [
    "### La moyenne d'age par classe"
   ]
  },
  {
   "cell_type": "markdown",
   "metadata": {},
   "source": [
    "Vous allez devoir calculer l'âge moyen par classe et l'ajouter dans une nouvelle colonne AgePerClass dans le DataFrame. Ceci n'est évidemment pas idéal puisque nous introduisons de la redondance dans les données, mais l'objectif est d'utiliser les méthodes que nous avons déjà vues et de pratiquer les méthodes <a href=\"https://pandas.pydata.org/pandas-docs/stable/reference/api/pandas.DataFrame.groupby.html\">pandas.DataFrame.groupby</a> et <a href=\"https://pandas.pydata.org/pandas-docs/stable/reference/api/pandas.DataFrame.join.html\">pandas.DataFrame.join</a>."
   ]
  },
  {
   "cell_type": "code",
   "execution_count": 41,
   "metadata": {},
   "outputs": [],
   "source": [
    "# Votre code ici"
   ]
  },
  {
   "cell_type": "markdown",
   "metadata": {},
   "source": [
    "<details>\n",
    "<summary>Solution</summary>\n",
    "<p>\n",
    "gbPclass = df.groupby(\"Pclass\").mean()\n",
    "df = df.join(gbPclass[\"Age\"], on=\"Pclass\", how=\"left\", rsuffix=\"PerClass\")\n",
    "\n",
    "df.head(4)\n",
    "<p>\n",
    "</details>"
   ]
  }
 ],
 "metadata": {
  "kernelspec": {
   "display_name": "Python 3",
   "language": "python",
   "name": "python3"
  },
  "language_info": {
   "codemirror_mode": {
    "name": "ipython",
    "version": 3
   },
   "file_extension": ".py",
   "mimetype": "text/x-python",
   "name": "python",
   "nbconvert_exporter": "python",
   "pygments_lexer": "ipython3",
   "version": "3.9.13"
  }
 },
 "nbformat": 4,
 "nbformat_minor": 2
}
