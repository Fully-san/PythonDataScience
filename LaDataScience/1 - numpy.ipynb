{
 "cells": [
  {
   "cell_type": "markdown",
   "metadata": {},
   "source": [
    "## Numpy"
   ]
  },
  {
   "cell_type": "markdown",
   "metadata": {},
   "source": [
    "### Executez la cellule suivante :"
   ]
  },
  {
   "cell_type": "code",
   "execution_count": 2,
   "metadata": {},
   "outputs": [],
   "source": [
    "import matplotlib.pyplot as plt\n",
    "import numpy as np\n",
    "\n",
    "\n",
    "def display(arr: np.ndarray) -> None:\n",
    "  channels = arr.shape[-1] in {1, 3}\n",
    "  batched = arr.ndim == (4 if channels else 3)\n",
    "  if not batched:\n",
    "    , ax = plt.subplots(figsize=(arr.shape[1] // 28 * 2, arr.shape[0] // 28 * 2))\n",
    "    ax.imshow(arr, cmap=\"grayr\")\n",
    "    ax.axis(\"off\")\n",
    "    plt.show()\n",
    "  if batched:\n",
    "    , ax = plt.subplots(2, 5, figsize=(10, 4))\n",
    "    for index in range(10):\n",
    "      axi = ax[index // 5, index % 5]\n",
    "      axi.settitle(f\"Élément {index}\")\n",
    "      axi.imshow(arr[index], cmap=\"grayr\" if index % 2 else \"gray\")\n",
    "      axi.axis(\"off\")"
   ]
  },
  {
   "cell_type": "markdown",
   "metadata": {},
   "source": [
    "### Excutez la cellule suivante pour récupérer les données"
   ]
  },
  {
   "cell_type": "code",
   "execution_count": 10,
   "metadata": {},
   "outputs": [
    {
     "name": "stdout",
     "output_type": "stream",
     "text": [
      "['x_test', 'x_train', 'y_train', 'y_test']\n"
     ]
    },
    {
     "data": {
      "image/png": "[encoded data removed]",
      "text/plain": [
       "<Figure size 200x200 with 1 Axes>"
      ]
     },
     "metadata": {},
     "output_type": "display_data"
    }
   ],
   "source": [
    "images = np.load('Data/mnist.npz')\n",
    "\n",
    "images = images[\"xtrain\"][:10]\n",
    "display(images[0])"
   ]
  },
  {
   "cell_type": "markdown",
   "metadata": {},
   "source": [
    "### Création de tableau"
   ]
  },
  {
   "cell_type": "markdown",
   "metadata": {},
   "source": [
    "Utilisez les fonctions suivantes :\n",
    " - <a href=\"https://numpy.org/doc/stable/reference/generated/numpy.arange.html\">numpy.arange</a>\n",
    " - <a href=\"https://numpy.org/doc/stable/reference/generated/numpy.array.html\">numpy.array</a>\n",
    " - <a href=\"https://numpy.org/doc/stable/reference/generated/numpy.empty.html\">numpy.empty</a>\n",
    " - <a href=\"https://numpy.org/doc/stable/reference/generated/numpy.empty_like.html\">numpy.emptylike</a>\n",
    " - <a href=\"https://numpy.org/doc/stable/reference/generated/numpy.linspace.html\">numpy.linspace</a>\n",
    " - <a href=\"https://numpy.org/doc/stable/reference/generated/numpy.ndarray.fill.html\">numpy.ndarray.fill</a>\n",
    " - <a href=\"https://numpy.org/doc/stable/reference/generated/numpy.ones.html\">numpy.ones</a>\n",
    " - <a href=\"https://numpy.org/doc/stable/reference/random/generated/numpy.random.normal.html\">numpy.random.normal</a>\n",
    " - <a href=\"https://numpy.org/doc/stable/reference/generated/numpy.zeros.html\">numpy.zeros</a>\n",
    " - <a href=\"https://numpy.org/doc/stable/reference/generated/numpy.zeros_like.html\">numpy.zeroslike</a>\n",
    "\n",
    "Créez 10 tableaux avec les caractéristiques suivantes :\n",
    " - a1, avec 5 éléments, tous les éléments à 0.\n",
    " - a2, avec 2 lignes, 3 colonnes, tous les éléments à 1.\n",
    " - a3, avec 2 lignes, 3 colonnes, tous les éléments à 8.\n",
    " - a4, avec 2 lignes, 3 colonnes, tous les éléments à True.\n",
    " - a5, avec 2 lignes, 3 colonnes, 5 profondeurs, tous les éléments tirés au hasard dans N(0,1), distribution normale de moyenne 0 et d'écart type 1.\n",
    " - a6, créé à partir de a5, tous les éléments doivent être fixés à 42.\n",
    " - a7, créé à partir de a5, mais avec la deuxième dimension modifiée pour avoir 5 éléments, tous les éléments doivent avoir la valeur 0 en tant qu'entier non signé sur 1 octet.\n",
    " - a8, dont les éléments sont les entiers de 0 à 9.\n",
    " - a9, contient 101 nombres également répartis entre 0 et 1 (0, 0.01, 0.02, ..., 0.99, 1).\n",
    " - a10, créé à partir de la variable <b><em>data</em></b> de la cellule suivante."
   ]
  },
  {
   "cell_type": "code",
   "execution_count": 15,
   "metadata": {},
   "outputs": [],
   "source": [
    "data = [[1, 2, 4], [9, 16, 25]]"
   ]
  },
  {
   "cell_type": "code",
   "execution_count": 19,
   "metadata": {},
   "outputs": [],
   "source": [
    "# Votre code ici"
   ]
  },
  {
   "cell_type": "markdown",
   "metadata": {},
   "source": [
    "<details>\n",
    "<summary>Solution</summary>\n",
    "<p>\n",
    "def printArray(array, name):\n",
    "  print(\"Array\", name)\n",
    "  print(array, \"\\n\")\n",
    "\n",
    "a1 = np.zeros(5)\n",
    "printArray(a1, \"a1\")\n",
    "\n",
    "a2 = np.ones((2, 3))\n",
    "printArray(a2, \"a2\")\n",
    "\n",
    "a3 = np.empty((2, 3))\n",
    "a3.fill(8)\n",
    "printArray(a3, \"a3\")\n",
    "\n",
    "a4 = np.ones((2, 3), dtype=\"bool\")\n",
    "printArray(a4, \"a4\")\n",
    "\n",
    "a5 = np.random.normal(0, 1, (2, 3, 5))\n",
    "printArray(a5, \"a5\")\n",
    "\n",
    "a6 = np.empty_like(a5)\n",
    "a6.fill(42)\n",
    "printArray(a6, \"a6\")\n",
    "\n",
    "a7Shape = list(a5.shape)\n",
    "a7Shape[1] = 5\n",
    "a7 = np.zeros(a7Shape, dtype=\"uint8\")\n",
    "printArray(a7, \"a7\")\n",
    "\n",
    "a8 = np.arange(10)\n",
    "printArray(a8, \"a8\")\n",
    "\n",
    "a9 = np.linspace(0, 1, 101)\n",
    "printArray(a9, \"a9\")\n",
    "\n",
    "a10 = np.array(data)\n",
    "printArray(a10, \"a10\")\n",
    "<p>\n",
    "</details>"
   ]
  },
  {
   "cell_type": "markdown",
   "metadata": {},
   "source": [
    "### Etudiez la taille d'un tableau"
   ]
  },
  {
   "cell_type": "markdown",
   "metadata": {},
   "source": [
    "Utilisez <a href=\"https://numpy.org/doc/stable/reference/generated/numpy.ndarray.ndim.html#numpy.ndarray.ndim\">numpy.ndarray.ndim</a> et <a href=\"https://numpy.org/doc/stable/reference/generated/numpy.ndarray.size.html#numpy.ndarray.size\">numpy.ndarray.size</a>, ou directement l'attribut plus complet <a href=\"https://numpy.org/doc/stable/reference/generated/numpy.ndarray.shape.html#numpy.ndarray.shape\">numpy.ndarray.shape</a> pour décrire précisément les dimensions des images de tableau chargées au début du notebook."
   ]
  },
  {
   "cell_type": "code",
   "execution_count": null,
   "metadata": {},
   "outputs": [],
   "source": [
    "# Your code here"
   ]
  },
  {
   "cell_type": "markdown",
   "metadata": {},
   "source": [
    "<details>\n",
    "<summary>Solution</summary>\n",
    "<p>\n",
    "print(\"Nombre total d'éléments dans le tableau images :\", images.size)\n",
    "print(\"Nombre de dimensions du tableau images :\", images.ndim)\n",
    "print(\"Taille des dimenions du tableau images :\", images.shape)\n",
    "<p>\n",
    "</details>"
   ]
  },
  {
   "cell_type": "markdown",
   "metadata": {},
   "source": [
    "### Redimensionnez un tableau"
   ]
  },
  {
   "cell_type": "markdown",
   "metadata": {},
   "source": [
    "Il arrive que l'on veuille réorganiser les éléments d'un tableau. Pour cela, nous pouvons utiliser les méthodes <a href=\"https://numpy.org/doc/stable/reference/generated/numpy.ndarray.reshape.html\">numpy.ndarray.reshape</a> et <a href=\"https://numpy.org/doc/stable/reference/generated/numpy.ndarray.swapaxes.html\">numpy.ndarray.swapaxes</a>.<br><br>\n",
    "\n",
    "Nous voulons maintenant redimensionner le tableau d'images afin d'afficher les 10 images en une seule. Il est possible de repositionner toutes les images les unes après les autres :\n",
    " - soit en juxtaposant verticalement les 10 images qu'il contient. Cela revient à transformer un tableau (10,28,28) en un tableau (280,28).\n",
    " - soit en juxtaposant horizontalement les 10 images qu'il contient. Cela revient à transformer un tableau (10,28,28) en un tableau (28,280)."
   ]
  },
  {
   "cell_type": "code",
   "execution_count": 24,
   "metadata": {},
   "outputs": [],
   "source": [
    "# Your code here"
   ]
  },
  {
   "cell_type": "markdown",
   "metadata": {},
   "source": [
    "#### Solution"
   ]
  },
  {
   "cell_type": "markdown",
   "metadata": {},
   "source": [
    "Veillez à conserver le nombre total d'éléments, qui peut être calculé en multipliant les tailles des dimensions. Par exemple, le nombre total d'éléments dans la variable <b><em>images</em></b> du tableau est de 10 × 28 × 28 = 7840. Tout redimensionnement doit respecter ce nombre total d'éléments."
   ]
  },
  {
   "cell_type": "code",
   "execution_count": 26,
   "metadata": {},
   "outputs": [
    {
     "data": {
      "image/png": "[encoded data removed]",
      "text/plain": [
       "<Figure size 200x2000 with 1 Axes>"
      ]
     },
     "metadata": {},
     "output_type": "display_data"
    },
    {
     "data": {
      "image/png": "[encoded data removed]",
      "text/plain": [
       "<Figure size 2000x200 with 1 Axes>"
      ]
     },
     "metadata": {},
     "output_type": "display_data"
    }
   ],
   "source": [
    "display(images.reshape(images.shape[0] * images.shape[1], images.shape[2]))\n",
    "display(images.swapaxes(0, 1).reshape(images.shape[1], images.shape[0] * images.shape[2]))"
   ]
  },
  {
   "cell_type": "markdown",
   "metadata": {},
   "source": [
    "### L'indexation"
   ]
  },
  {
   "cell_type": "markdown",
   "metadata": {},
   "source": [
    "Sélectionnez et affichez à partir de la variable <b><em>data</em></b> les requêtes suivantes en utilisant le système d'indexation de numpy :\n",
    " 1. Le premier élément de la première ligne.\n",
    " 2. La deuxième colonne.\n",
    " 3. Les deux premiers éléments des deux dernières lignes.\n",
    " 4. Le premier et le dernier élément de chaque ligne.\n",
    " 5. Les éléments d'indices (0, 0), (1, 0), (2, 1), (0, 2) et (1, 1) (c'est-à-dire les valeurs 1, 4, 8, 3 et 5).\n",
    " 6. Les éléments strictement supérieurs aux éléments correspondants à la variable <b><em>other</em></b>."
   ]
  },
  {
   "cell_type": "code",
   "execution_count": 28,
   "metadata": {},
   "outputs": [],
   "source": [
    "data = np.array([[1, 2, 3], [4, 5, 6], [7, 8, 9]])\n",
    "other = np.array([[3, 1, 2], [5, 6, 4], [9, 8, 7]])"
   ]
  },
  {
   "cell_type": "code",
   "execution_count": 29,
   "metadata": {},
   "outputs": [],
   "source": [
    "# Votre code ici"
   ]
  },
  {
   "cell_type": "markdown",
   "metadata": {},
   "source": [
    "<details>\n",
    "<summary>Solution</summary>\n",
    "<p>\n",
    "def displaySolution(array, number):\n",
    "  print(\"Exercise\", number)\n",
    "  print(array, \"\\n\")\n",
    "\n",
    "print(\"Data\")\n",
    "print(data, \"\\n\")\n",
    "\n",
    "displaySolution(data[0, 0], 1)\n",
    "\n",
    "displaySolution(data[:, 1], 2)\n",
    "\n",
    "displaySolution(data[1:, :2], 3)\n",
    "\n",
    "displaySolution(data[:, [0, -1]], 4)\n",
    "\n",
    "displaySolution(data[[0, 1, 2, 0, 1], [0, 0, 1, 2, 1]], 5)\n",
    "\n",
    "displaySolution(data[data > other], 6)\n",
    "<p>\n",
    "</details>"
   ]
  },
  {
   "cell_type": "markdown",
   "metadata": {},
   "source": [
    "### Les opérations"
   ]
  },
  {
   "cell_type": "markdown",
   "metadata": {},
   "source": [
    "Obtenez les valeurs absolues de la variable <b><em>data</em></b> en utilisant au moins deux méthodes différentes, puis normalisez-les (centrées sur 0 et divisées par leur écart-type)."
   ]
  },
  {
   "cell_type": "code",
   "execution_count": 33,
   "metadata": {},
   "outputs": [],
   "source": [
    "data = np.array([-1, 2, 3, -2, 7, -5, 8, 1])"
   ]
  },
  {
   "cell_type": "code",
   "execution_count": 34,
   "metadata": {},
   "outputs": [],
   "source": [
    "# Votre code ici"
   ]
  },
  {
   "cell_type": "markdown",
   "metadata": {},
   "source": [
    "<details>\n",
    "<summary>Solution</summary>\n",
    "<p>\n",
    "# Méthode 1, utiliser np.abs\n",
    "dataAbs = np.abs(data)\n",
    "# Méthode 2, utiliser un masque booléen\n",
    "dataAbs = data.copy()\n",
    "dataAbs[dataAbs < 0] *= -1\n",
    "# Normalization\n",
    "dataNorm = (dataAbs - dataAbs.mean()) / dataAbs.std()\n",
    "dataNorm\n",
    "<p>\n",
    "</details>"
   ]
  },
  {
   "cell_type": "markdown",
   "metadata": {},
   "source": [
    "### Sauvegarder les données"
   ]
  },
  {
   "cell_type": "markdown",
   "metadata": {},
   "source": [
    "Sauvegarder les tableaux <em><b>a</b></em> et <em><b>aSquared</b></em> suivants dans un fichier .npz compressé. Rechargez-les ensuite."
   ]
  },
  {
   "cell_type": "code",
   "execution_count": 38,
   "metadata": {},
   "outputs": [],
   "source": [
    "a = np.arange(10)\n",
    "aSquared = a ** 2"
   ]
  },
  {
   "cell_type": "code",
   "execution_count": 39,
   "metadata": {},
   "outputs": [],
   "source": [
    "# Votre code ici"
   ]
  },
  {
   "cell_type": "markdown",
   "metadata": {},
   "source": [
    "<details>\n",
    "<summary>Solution</summary>\n",
    "<p>\n",
    "np.savez_compressed('Data/arrays.npz', a=a, aSquared=aSquared)\n",
    "arrays = np.load(\"Data/arrays.npz\")\n",
    "np.array_equal(a, arrays[\"a\"]) and np.array_equal(aSquared, arrays[\"aSquared\"])\n",
    "<p>\n",
    "</details>"
   ]
  }
 ],
 "metadata": {
  "kernelspec": {
   "display_name": "base",
   "language": "python",
   "name": "python3"
  },
  "language_info": {
   "name": "python",
   "version": "3.9.13"
  }
 },
 "nbformat": 4,
 "nbformat_minor": 2
}
