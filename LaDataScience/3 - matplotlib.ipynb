{
 "cells": [
  {
   "cell_type": "markdown",
   "metadata": {},
   "source": [
    "## Matplotlib"
   ]
  },
  {
   "cell_type": "markdown",
   "metadata": {},
   "source": [
    "Chaque exercice vous fera créer un ou plusieurs graphiques. Comme pour les autres exercices, les solutions sont fournies afin que vous puissiez voir le résultat final attendu."
   ]
  },
  {
   "cell_type": "markdown",
   "metadata": {},
   "source": [
    "### Imports"
   ]
  },
  {
   "cell_type": "code",
   "execution_count": 1,
   "metadata": {},
   "outputs": [],
   "source": [
    "import matplotlib as mpl\n",
    "import matplotlib.pyplot as plt\n",
    "import numpy as np"
   ]
  },
  {
   "cell_type": "markdown",
   "metadata": {},
   "source": [
    "### Un graphique simple"
   ]
  },
  {
   "cell_type": "markdown",
   "metadata": {},
   "source": [
    "Créez un premier graphique représentant les fonctions sinus et cosinus.\n",
    " - Créez une liste d'index <em><b>x</b></em> avec <a href=\"https://numpy.org/doc/stable/reference/generated/numpy.linspace.html\">numpy.linspace</a> qui représentera votre axe des x.\n",
    " - Créez les valeurs associées à <em><b>x</b></em> dans un tableau <em><b>yCos</b></em> et <em><b>ySin</b></em> en utilisant <a href=\"https://numpy.org/doc/stable/reference/generated/numpy.cos.html\">np.cos</a> et <a href=\"https://numpy.org/doc/stable/reference/generated/numpy.sin.html\">np.sin</a>.\n",
    " - Ajoutez un espace coloré entre les deux tracés cosinus et sinus en utilisant <a href=\"https://matplotlib.org/stable/api/_as_gen/matplotlib.axes.Axes.fill_between.html#matplotlib.axes.Axes.fill_between\">ax.fill_between</a> et changez la couleur par défaut avec la couleur <em><b>#B8DDF9</b></em>.\n",
    " - Ajouter un titre avec <a href=\"https://matplotlib.org/stable/api/_as_gen/matplotlib.axes.Axes.set_title.html#matplotlib.axes.Axes.set_title\">ax.set_title</a>.\n",
    " - Ajouter une légende avec <a href=\"https://matplotlib.org/stable/api/_as_gen/matplotlib.axes.Axes.legend.html#matplotlib.axes.Axes.legend\">ax.legend</a>.\n",
    "\n",
    "Bonnes pratiques Evitez d'utiliser <em><b>plt.plot</b></em> directement et forcez-vous à créer un objet figure et un objet axes avec <a href=\"https://matplotlib.org/stable/api/_as_gen/matplotlib.pyplot.subplots.html\">plt.subplots</a>, ou une combinaison de <a href=\"https://matplotlib.org/stable/api/_as_gen/matplotlib.pyplot.figure.html\">plt.figure</a> et <a href=\"https://matplotlib.org/stable/api/_as_gen/matplotlib.pyplot.subplot.html\">plt.subplot</a> ou <a href=\"https://matplotlib.org/stable/api/figure_api.html\">fig.add_subplot</a>, puis utilisez <em><b>ax.plot</em></b>."
   ]
  },
  {
   "cell_type": "code",
   "execution_count": null,
   "metadata": {},
   "outputs": [],
   "source": [
    "# # Créer les données pour le graphique.\n",
    "# x = ...\n",
    "# y_cos = ...\n",
    "# y_sin = ...\n",
    "\n",
    "# # Créer les axes et la figure.\n",
    "# fig, ax = ...\n",
    "\n",
    "# # Affichage\n",
    "# # Cosinus\n",
    "# ax.??\n",
    "# # Sinus\n",
    "# ax.??\n",
    "# Remplir l'espace entre les deux courbes avec la couleur #B8DDF9\n",
    "# ax.??\n",
    "\n",
    "# # Ajouter un titre et une légende\n",
    "# ax.??\n",
    "# ax.??\n",
    "\n",
    "# fig.show()"
   ]
  },
  {
   "cell_type": "markdown",
   "metadata": {},
   "source": [
    "<details>\n",
    "<summary>Solution</summary>\n",
    "<p>\n",
    "x = np.linspace(0, np.pi * 2)\n",
    "y_cos = np.cos(x)\n",
    "y_sin = np.sin(x)\n",
    "\n",
    "fig, ax = plt.subplots(dpi=100)\n",
    "\n",
    "ax.plot(x, y_cos, label=\"cos\")\n",
    "ax.plot(x, y_sin, label=\"sin\")\n",
    "ax.fill_between(x, y_cos, y_sin, color=\"#b8ddf9\")\n",
    "\n",
    "ax.set_title(\"Cosinus et sinus functions\")\n",
    "ax.legend()\n",
    "\n",
    "fig.show()\n",
    "<p>\n",
    "</details>"
   ]
  },
  {
   "cell_type": "markdown",
   "metadata": {},
   "source": [
    "### <em><b>imshow</b></em> et <em><b>contour</b></em>"
   ]
  },
  {
   "cell_type": "markdown",
   "metadata": {},
   "source": [
    "Nous allons visualiser une fonction <em><b>f</b></em> avec deux paramètres <em><b>x</b></em> et <em><b>y</b></em> définis comme suit :\n",
    "$$\n",
    "  f(x,y) = z = \\frac{sin(x^2 + y^2)}{x^2 + y^2}\n",
    "$$\n",
    "\n",
    "Pour l'afficher en deux dimensions, nous utiliserons <a href=\"https://matplotlib.org/stable/api/_as_gen/matplotlib.axes.Axes.imshow.html\">imshow</a> et <a href=\"https://matplotlib.org/stable/api/contour_api.html\">contour</a> :\n",
    " - Créer les variables <em><b>x</b></em> et <em><b>y</b></em> nécessaires à l'affichage. Pour cela, vous aurez besoin de <a href=\"https://numpy.org/doc/stable/reference/generated/numpy.linspace.html\">np.linspace</a> et <a href=\"https://numpy.org/doc/stable/reference/generated/numpy.meshgrid.html\">np.meshgrid</a> pour créer une valeur associée à chaque pixel affiché.\n",
    "- Calculer <em><b>z</b></em>.\n",
    "- Afficher <em><b>z</b></em> avec <a href=\"https://matplotlib.org/stable/api/_as_gen/matplotlib.axes.Axes.imshow.html\">imshow</a> en utilisant la transparence à 0,5 (<em><b>alpha=0.5</b></em>).\n",
    "- Afficher <em><b>z</b></em> avec <a href=\"https://matplotlib.org/stable/api/contour_api.html\">contour</a>."
   ]
  },
  {
   "cell_type": "code",
   "execution_count": null,
   "metadata": {},
   "outputs": [],
   "source": [
    "# # Création des variables x et y dans la range [-5, 5].\n",
    "# x = np.linspace(-5, 5, 1000)\n",
    "# y = np.linspace(-5, 5, 1000)\n",
    "\n",
    "# # Affichage des données en utilisant la méthode meshgrid.\n",
    "# xx, yy = ???\n",
    "\n",
    "# # Calculer z grâce à xx et yy.\n",
    "# z = ???\n",
    "\n",
    "# # Créer les axes et la figure.\n",
    "# fig, ax = ???\n",
    "\n",
    "# # Gérer l'affichage avec les méthodes imshow et contour.\n",
    "# ax.???\n",
    "# ax.???\n",
    "\n",
    "# fig.show()"
   ]
  },
  {
   "cell_type": "markdown",
   "metadata": {},
   "source": [
    "<details>\n",
    "<summary>Solution 1</summary>\n",
    "<p>\n",
    "x = np.linspace(-5, 5, 1000)\n",
    "y = np.linspace(-5, 5, 1000)\n",
    "\n",
    "xx, yy = np.meshgrid(x, y)\n",
    "\n",
    "z = np.sin(xx ** 2 + yy ** 2) / (xx ** 2 + yy ** 2)\n",
    "\n",
    "fig, ax = plt.subplots(dpi=100)\n",
    "\n",
    "ax.imshow(z, alpha=0.5)\n",
    "ax.contour(z)\n",
    "\n",
    "fig.show()\n",
    "<p>\n",
    "</details>"
   ]
  },
  {
   "cell_type": "markdown",
   "metadata": {},
   "source": [
    "<details>\n",
    "<summary>Solution 2</summary>\n",
    "<p>\n",
    "x = np.linspace(-5, 5, 1000)\n",
    "y = np.linspace(-5, 5, 1000)\n",
    "\n",
    "xx, yy = np.meshgrid(x, y)\n",
    "\n",
    "z = np.sin(xx**2 + yy**2) / (xx**2 + yy**2)\n",
    "\n",
    "fig,ax = plt.subplots(dpi=150,subplot_kw=dict(projection='3d'))\n",
    "\n",
    "g=ax.plot_surface(xx,yy,z,cmap='coolwarm')\n",
    "fig.colorbar(g)\n",
    "plt.show()\n",
    "<p>\n",
    "</details>"
   ]
  },
  {
   "cell_type": "markdown",
   "metadata": {},
   "source": [
    "### Graphiques et représentations multiples"
   ]
  },
  {
   "cell_type": "markdown",
   "metadata": {},
   "source": [
    "Créez 4 graphiques différentes avec les trois fonctions suivantes :\n",
    " - $f(x) = 10^x$\n",
    " - $f(x) = x$\n",
    " - $f(x) = \\log(x)$\n",
    "\n",
    "Vous afficherez ces trois fonctions sur quatre graphiques avec des échelles différentes sur <em><b>x</b></em> et <em><b>y</b></em> :\n",
    " 1. Axe des <em><b>x</b></em> linéaire et axe des <em><b>y</b></em> linéaire.\n",
    " 2. Axe des <em><b>x</b></em> logarithmique et axe des <em><b>y</b></em> linéaire.\n",
    " 3. Axe des <em><b>x</b></em> linéaire et axe des <em><b>y</b></em> logarithmique.\n",
    " 4. Axe <em><b>x</b></em> logarithmique et axe <em><b>y</b></em> logarithmique.\n",
    "\n",
    "en utilisant la disposition suivante :<br>\n",
    "<img src=\"https://raw.githubusercontent.com/rougier/matplotlib-tutorial/master/figures/subplot-grid.png\"><img>\n",
    "\n",
    "Pour réaliser la visualisation :\n",
    " - Utilisez <a href=\"https://matplotlib.org/stable/api/_as_gen/matplotlib.pyplot.subplots.html#matplotlib.pyplot.subplots\">subplots</a> pour créer une figure contenant 4 graphiques sur 2 lignes et 2 colonnes.\n",
    " - Utilisez <a href=\"https://matplotlib.org/stable/api/_as_gen/matplotlib.axes.Axes.set_xscale.html#matplotlib.axes.Axes.set_xscale\">set_xscale</a> et <a href=\"https://matplotlib.org/stable/api/_as_gen/matplotlib.axes.Axes.set_yscale.html#matplotlib.axes.Axes.set_yscale\">set_yscale</a> pour modifier l'échelle des axes.\n",
    " - Utilisez <a href=\"https://matplotlib.org/stable/api/_as_gen/matplotlib.axes.Axes.set_xlim.html#matplotlib.axes.Axes.set_xlim\">set_xlim</a> et <a href=\"https://matplotlib.org/stable/api/_as_gen/matplotlib.axes.Axes.set_ylim.html#matplotlib.axes.Axes.set_ylim\">set_ylim</a> pour définir les limites d'affichage."
   ]
  },
  {
   "cell_type": "code",
   "execution_count": null,
   "metadata": {},
   "outputs": [],
   "source": [
    "# X = np.linspace(0.001, 90, 5000)\n",
    "# fig, ax = plt.subplots(2, 2, figsize=(8, 8), dpi=100)"
   ]
  },
  {
   "cell_type": "markdown",
   "metadata": {},
   "source": [
    "<details>\n",
    "<summary>Solution</summary>\n",
    "<p>\n",
    "x = np.linspace(0.001, 90, 5000)\n",
    "fig, ax = plt.subplots(2, 2, figsize=(8, 8), dpi=100)\n",
    "\n",
    "def subplot(ax, xlog = False, ylog= False):\n",
    "  if xlog:\n",
    "    ax.set_xscale(\"log\")\n",
    "    ax.set_xlim(0.01, 100)\n",
    "  else:\n",
    "    ax.set_xlim(0, 10)\n",
    "  if ylog:\n",
    "    ax.set_yscale(\"log\")\n",
    "    ax.set_ylim(0.01, 100)\n",
    "  else:\n",
    "    ax.set_ylim(0, 10)\n",
    "  ax.plot(x, 10 ** x, label=\"$f(x) = 10^x$\")\n",
    "  ax.plot(x, x, label=\"$f(x) = x$\")\n",
    "  ax.plot(x, np.log10(x), label=r\"$f(x) = \\log(x)$\")\n",
    "  ax.grid(visible=True, which='both', axis='both')\n",
    "  x_title = f\"$x$ {'logarithmique' if xlog else 'linéaire'}\"\n",
    "  y_title = f\"$y$ {'logarithmique' if ylog else 'linéaire'}\"\n",
    "  ax.set_title(f\"{x_title} - {y_title}\")\n",
    "  ax.legend()\n",
    "\n",
    "subplot(ax[0, 0])\n",
    "ax[0, 0].set_ylabel(\"Linéaire\")\n",
    "\n",
    "subplot(ax[0, 1], xlog=True)\n",
    "\n",
    "subplot(ax[1, 0], ylog=True)\n",
    "ax[1, 0].set_xlabel(\"Linéaire\")\n",
    "ax[1, 0].set_ylabel(\"Log\")\n",
    "\n",
    "subplot(ax[1, 1], xlog=True, ylog=True)\n",
    "ax[1, 1].set_xlabel(\"Log\")\n",
    "\n",
    "fig.show()\n",
    "<p>\n",
    "</details>"
   ]
  },
  {
   "cell_type": "markdown",
   "metadata": {},
   "source": [
    "### Projection polaire"
   ]
  },
  {
   "cell_type": "markdown",
   "metadata": {},
   "source": [
    "Il est possible de réaliser des graphiques polaires en spécifiant une projection polaire."
   ]
  },
  {
   "cell_type": "code",
   "execution_count": 9,
   "metadata": {},
   "outputs": [
    {
     "name": "stderr",
     "output_type": "stream",
     "text": [
      "C:\\Users\\Fully\\AppData\\Local\\Temp\\ipykernel_8300\\3480939012.py:10: UserWarning: Matplotlib is currently using module://matplotlib_inline.backend_inline, which is a non-GUI backend, so cannot show the figure.\n",
      "  fig.show()\n"
     ]
    },
    {
     "data": {
      "image/png": "[encoded data removed]",
      "text/plain": [
       "<Figure size 640x480 with 2 Axes>"
      ]
     },
     "metadata": {},
     "output_type": "display_data"
    }
   ],
   "source": [
    "rng = np.random.default_rng()\n",
    "x = rng.integers(0, 10, size=15)\n",
    "\n",
    "fig = plt.figure(dpi=100)\n",
    "ax = fig.add_subplot(1, 2, 1)\n",
    "ax.hist(x)\n",
    "ax = fig.add_subplot(1, 2, 2, projection='polar')\n",
    "ax.hist(x)\n",
    "\n",
    "fig.show()"
   ]
  }
 ],
 "metadata": {
  "kernelspec": {
   "display_name": "Python 3",
   "language": "python",
   "name": "python3"
  },
  "language_info": {
   "codemirror_mode": {
    "name": "ipython",
    "version": 3
   },
   "file_extension": ".py",
   "mimetype": "text/x-python",
   "name": "python",
   "nbconvert_exporter": "python",
   "pygments_lexer": "ipython3",
   "version": "3.9.13"
  }
 },
 "nbformat": 4,
 "nbformat_minor": 2
}
