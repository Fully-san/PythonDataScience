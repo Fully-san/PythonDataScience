{
 "cells": [
  {
   "cell_type": "markdown",
   "metadata": {},
   "source": [
    "## La gestion des exceptions"
   ]
  },
  {
   "cell_type": "markdown",
   "metadata": {},
   "source": [
    "Modifiez le code ci-dessous pour ajouter la gestion des exceptions suivante :\n",
    " 1. Vérifiez que la deuxième entrée utilisateur est bien un opérateur valide, dans le cas contraire lever une exception.\n",
    " 2. Essayez de convertir la première et la troisième entrée utilisateur en float et capturer les <em><b>ValueError</b></em> qui peuvent se produire en levant votre propre exception.\n",
    " 3. Ajoutez une clause <em><b>else</b></em> dans laquelle sera affichée le résultat du calcul.\n",
    " "
   ]
  },
  {
   "cell_type": "code",
   "execution_count": null,
   "metadata": {},
   "outputs": [],
   "source": [
    "num1 = eval(input(\"Entrer un nombre : \"))\n",
    "operator = input(\"Entrer une operation (+ - * / %) : \")\n",
    "num2 = eval(input(\"Entrer un nombre : \"))\n",
    "\n",
    "if operator == '+':\n",
    "    result = num1 + num2\n",
    "elif operator == '-':\n",
    "    result = num1 - num2\n",
    "elif operator == '*':\n",
    "    result = num1 * num2\n",
    "elif operator == '/':\n",
    "    result = num1 / num2\n",
    "elif operator == '%':\n",
    "    result = num1 % num2\n",
    "else:\n",
    "    print(\"Il y a une erreur de saisie.\")\n",
    "\n",
    "print(\"Le resultat de l\\'operation est :\", result)"
   ]
  },
  {
   "cell_type": "markdown",
   "metadata": {},
   "source": [
    "<details>\n",
    "<summary>Solution</summary>\n",
    "<p>\n",
    "entry1 = input(\"Entrer un nombre : \")\n",
    "operator = input(\"Entrer une operation (+ - * / %) : \")\n",
    "entry2 = input(\"Entrer un nombre : \")\n",
    "\n",
    "try:\n",
    "    num1 = float(entry1)\n",
    "    num2 = float(entry2)\n",
    "except ValueError:\n",
    "    raise Exception(\"Vos valeurs doivent être des nombres.\")\n",
    "\n",
    "if operator == '+':\n",
    "    result = num1 + num2\n",
    "elif operator == '-':\n",
    "    result = num1 - num2\n",
    "elif operator == '*':\n",
    "    result = num1 * num2\n",
    "elif operator == '/':\n",
    "    result = num1 / num2\n",
    "elif operator == '%':\n",
    "    result = num1 % num2\n",
    "else:\n",
    "    raise Exception(operator + \" n'est pas un opérateur valide.\")\n",
    "\n",
    "print(\"Le resultat de l\\'operation est :\", result)\n",
    "<p>\n",
    "</details>"
   ]
  }
 ],
 "metadata": {
  "kernelspec": {
   "display_name": "Python 3",
   "language": "python",
   "name": "python3"
  },
  "language_info": {
   "codemirror_mode": {
    "name": "ipython",
    "version": 3
   },
   "file_extension": ".py",
   "mimetype": "text/x-python",
   "name": "python",
   "nbconvert_exporter": "python",
   "pygments_lexer": "ipython3",
   "version": "3.9.13"
  }
 },
 "nbformat": 4,
 "nbformat_minor": 2
}
