{
 "cells": [
  {
   "cell_type": "markdown",
   "metadata": {},
   "source": [
    "## Tests d'un algorithme de chiffrement"
   ]
  },
  {
   "cell_type": "markdown",
   "metadata": {},
   "source": [
    "Nous allons nous intéresser à l'implémentation du <a href=\"https://fr.wikipedia.org/wiki/Chiffrement_par_d%C3%A9calage\">chiffre de César</a>.<br>\n",
    "Ce chiffrement simple effectue une rotation des caractères de l'alphabet (et ne touche pas aux autres caractères, comme la ponctuation ou les espaces)."
   ]
  },
  {
   "cell_type": "markdown",
   "metadata": {},
   "source": [
    "### Mise en place de l'environnement de travail"
   ]
  },
  {
   "cell_type": "markdown",
   "metadata": {},
   "source": [
    "### Démarche TDD (Test Driven Development)"
   ]
  },
  {
   "cell_type": "markdown",
   "metadata": {},
   "source": [
    "D'après la description du chiffre de César sur Wikipédia (et en particulier les exemples donnés), créez quelques tests simples (sous forme de fonction) pour vérifier si le chiffrement d'une chaîne est correcte.\n",
    "\n",
    "Écrivez et testez ensuite votre propre implémentation d'une fonction <em><b>rotate</b></em> qui implémente le chiffre de César, ou testez celle contenue dans la <em><b>solution</b></em> avec les fonctions que vous venez de définir."
   ]
  },
  {
   "cell_type": "code",
   "execution_count": 2,
   "metadata": {},
   "outputs": [],
   "source": [
    "# Votre code ici"
   ]
  },
  {
   "cell_type": "markdown",
   "metadata": {},
   "source": [
    "<details>\n",
    "<summary>Solution</summary>\n",
    "<p>\n",
    "from string import ascii_lowercase, ascii_uppercase\n",
    "\n",
    "def makeTable(characters, key):\n",
    "    key %= 26\n",
    "    return str.maketrans(characters, characters[key:] + characters[:key])\n",
    "\n",
    "def rotate(text, key):\n",
    "    table = {**makeTable(ascii_lowercase, key), **makeTable(ascii_uppercase, key)}\n",
    "    return text.translate(table)\n",
    "\n",
    "\n",
    "def testRotateABy0SameOutputAsInput():\n",
    "    return rotate(\"a\", 0) == \"a\"\n",
    "\n",
    "def testRotateABy1():\n",
    "    return rotate(\"a\", 1) == \"b\"\n",
    "\n",
    "def testRotateMBy13():\n",
    "    return rotate(\"m\", 13) == \"z\"\n",
    "\n",
    "def testRotateNBy13WithWrapAroundAlphabet():\n",
    "    return rotate(\"n\", 13) == \"a\"\n",
    "\n",
    "def testRotateCapitalLetters():\n",
    "    return rotate(\"OMG\", 5) == \"TRL\"\n",
    "<p>\n",
    "</details>"
   ]
  },
  {
   "cell_type": "markdown",
   "metadata": {},
   "source": [
    "### Utilisation de <em><b>pytest</b></em>"
   ]
  },
  {
   "cell_type": "markdown",
   "metadata": {},
   "source": [
    "Il est nécessaire d'installer le package pytest sur votre environnement Conda, pour se faire executez la commande suivante :"
   ]
  },
  {
   "cell_type": "code",
   "execution_count": null,
   "metadata": {
    "vscode": {
     "languageId": "bat"
    }
   },
   "outputs": [],
   "source": [
    "conda install -c anaconda pytest"
   ]
  },
  {
   "cell_type": "markdown",
   "metadata": {},
   "source": [
    "Créez un fichier <em><b>test_pytest_caesarCipher.py</b></em> puis adaptez les fonctions précédemment codées pour les rendre compatibles avec <em><b>pytest</b></em>.\n",
    "\n",
    "Utilisez ensuite la commande <em><b>pytest</b></em> pour exécuter les tests.\n",
    "\n",
    "Enfin, complétez votre fichier de tests pour atteindre 5 cas de test."
   ]
  },
  {
   "cell_type": "markdown",
   "metadata": {},
   "source": [
    "### Utilisation de <em><b>unittest</b></em>"
   ]
  },
  {
   "cell_type": "markdown",
   "metadata": {},
   "source": [
    "Créez un fichier <em><b>test_unittest_caesarCipher.py</b></em> puis adaptez les fonctions précédemment codées pour les rendre compatibles avec <em><b>unittest</b></em>.\n",
    "\n",
    "Pour exécuter vos tests, ajoutez les lignes suivantes dans votre fichier <em><b>test_unittest_caesarCipher.py</b></em>."
   ]
  },
  {
   "cell_type": "code",
   "execution_count": null,
   "metadata": {},
   "outputs": [],
   "source": [
    "if __name__ == \"__main__\":\n",
    "    unittest.main()"
   ]
  }
 ],
 "metadata": {
  "kernelspec": {
   "display_name": "Python 3",
   "language": "python",
   "name": "python3"
  },
  "language_info": {
   "codemirror_mode": {
    "name": "ipython",
    "version": 3
   },
   "file_extension": ".py",
   "mimetype": "text/x-python",
   "name": "python",
   "nbconvert_exporter": "python",
   "pygments_lexer": "ipython3",
   "version": "3.9.13"
  }
 },
 "nbformat": 4,
 "nbformat_minor": 2
}
